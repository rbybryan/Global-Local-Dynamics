{
 "cells": [
  {
   "cell_type": "code",
   "execution_count": 1,
   "metadata": {},
   "outputs": [
    {
     "name": "stdout",
     "output_type": "stream",
     "text": [
      "/Users/bryan/Downloads/Peking_U/GlobalLocal\n"
     ]
    }
   ],
   "source": [
    "%cd '/Users/bryan/Downloads/Peking_U/GlobalLocal/'"
   ]
  },
  {
   "cell_type": "code",
   "execution_count": 2,
   "metadata": {},
   "outputs": [
    {
     "name": "stderr",
     "output_type": "stream",
     "text": [
      "/Users/bryan/anaconda3/lib/python3.7/site-packages/numba/decorators.py:146: RuntimeWarning: Caching is not available when the 'parallel' target is in use. Caching is now being disabled to allow execution to continue.\n",
      "  warnings.warn(msg, RuntimeWarning)\n"
     ]
    }
   ],
   "source": [
    "import scipy.io as sio\n",
    "import mat4py\n",
    "import os\n",
    "import numpy as np\n",
    "import pandas as pd\n",
    "from IPython.display import display\n",
    "import matplotlib.pyplot as plt\n",
    "import time\n",
    "import pickle\n",
    "import h5py\n",
    "\n",
    "from sklearn.pipeline import make_pipeline\n",
    "from sklearn.preprocessing import StandardScaler\n",
    "from sklearn.linear_model import LogisticRegression,LinearRegression\n",
    "import sklearn\n",
    "from sklearn.metrics.scorer import make_scorer\n",
    "\n",
    "from mne.decoding import (SlidingEstimator, GeneralizingEstimator, Scaler,\n",
    "                          cross_val_multiscore, LinearModel, get_coef,\n",
    "                          Vectorizer, CSP)"
   ]
  },
  {
   "cell_type": "code",
   "execution_count": 3,
   "metadata": {},
   "outputs": [],
   "source": [
    "# path = 'SEQ_pre_data/'\n",
    "path = 'SIM_pre_data/'"
   ]
  },
  {
   "cell_type": "code",
   "execution_count": 4,
   "metadata": {},
   "outputs": [],
   "source": [
    "sub_folder = sorted([i for i in os.listdir(path) if 'sub' in i])\n"
   ]
  },
  {
   "cell_type": "code",
   "execution_count": 5,
   "metadata": {},
   "outputs": [],
   "source": [
    "folder = path+sub_folder[2]+'/'"
   ]
  },
  {
   "cell_type": "code",
   "execution_count": 6,
   "metadata": {},
   "outputs": [],
   "source": [
    "file_path = folder + sorted(os.listdir(folder))[-1]"
   ]
  },
  {
   "cell_type": "code",
   "execution_count": 7,
   "metadata": {
    "scrolled": true
   },
   "outputs": [],
   "source": [
    "# # ## load all subjects' data\n",
    "# # DATA = []\n",
    "# # design = []\n",
    "# for s in sub_folder[8:]:\n",
    "#     folder = path+s+'/'\n",
    "#     file_path = folder + sorted(os.listdir(folder))[-1]\n",
    "#     tes = sio.loadmat(file_path)\n",
    "#     if s == 'sub09':\n",
    "#         data_tmp = (tes['data_clean_planar'][0,0][3]).copy()\n",
    "#     else:\n",
    "#         data_tmp = (tes['data_clean_planar'][0,0][2]).copy()\n",
    "#     data = np.zeros(data_tmp[0].shape + data_tmp[0][0].shape)\n",
    "#     for i in range(data_tmp.shape[-1]):\n",
    "#         data[i,] = data_tmp[0][i].copy()\n",
    "#     del data_tmp\n",
    "#     DATA.append(data)\n",
    "#     design.append(tes['task_code'])\n",
    "# Time = tes['data_clean_planar'][0,0][3][0,0].copy().reshape(-1)\n"
   ]
  },
  {
   "cell_type": "code",
   "execution_count": 8,
   "metadata": {},
   "outputs": [],
   "source": [
    "# meg_data = np.concatenate(DATA,axis=0)\n",
    "# design_matrix = np.concatenate(design,axis=0)\n",
    "# hf = h5py.File(path + 'all_data.hdf5', \"w\")\n",
    "# hf.create_dataset('MEG_data',compression=\"gzip\", compression_opts=9,data=meg_data)\n",
    "# hf.create_dataset('design_matrix',compression=\"gzip\",compression_opts=9, data=design_matrix)\n",
    "# hf.create_dataset('time', data=Time,compression=\"gzip\",compression_opts=9)\n",
    "# hf.close()"
   ]
  },
  {
   "cell_type": "code",
   "execution_count": 7,
   "metadata": {},
   "outputs": [],
   "source": [
    "with h5py.File(path + 'all_data.hdf5', 'r') as f:\n",
    "    data = f.get('MEG_data')[:]\n",
    "    design_matrix = f.get('design_matrix')[:]\n",
    "    Time = f.get('time')[:]"
   ]
  },
  {
   "cell_type": "markdown",
   "metadata": {},
   "source": [
    "## Statistics"
   ]
  },
  {
   "cell_type": "code",
   "execution_count": 10,
   "metadata": {},
   "outputs": [
    {
     "data": {
      "text/html": [
       "<div>\n",
       "<style scoped>\n",
       "    .dataframe tbody tr th:only-of-type {\n",
       "        vertical-align: middle;\n",
       "    }\n",
       "\n",
       "    .dataframe tbody tr th {\n",
       "        vertical-align: top;\n",
       "    }\n",
       "\n",
       "    .dataframe thead th {\n",
       "        text-align: right;\n",
       "    }\n",
       "</style>\n",
       "<table border=\"1\" class=\"dataframe\">\n",
       "  <thead>\n",
       "    <tr style=\"text-align: right;\">\n",
       "      <th></th>\n",
       "      <th>type</th>\n",
       "      <th>angle_1</th>\n",
       "      <th>angle_2</th>\n",
       "      <th>digitize_1</th>\n",
       "      <th>digitize_2</th>\n",
       "      <th>Performance</th>\n",
       "    </tr>\n",
       "  </thead>\n",
       "  <tbody>\n",
       "    <tr>\n",
       "      <th>0</th>\n",
       "      <td>1</td>\n",
       "      <td>80</td>\n",
       "      <td>0</td>\n",
       "      <td>5</td>\n",
       "      <td>1</td>\n",
       "      <td>1</td>\n",
       "    </tr>\n",
       "    <tr>\n",
       "      <th>1</th>\n",
       "      <td>1</td>\n",
       "      <td>40</td>\n",
       "      <td>0</td>\n",
       "      <td>3</td>\n",
       "      <td>1</td>\n",
       "      <td>-19</td>\n",
       "    </tr>\n",
       "    <tr>\n",
       "      <th>2</th>\n",
       "      <td>1</td>\n",
       "      <td>140</td>\n",
       "      <td>120</td>\n",
       "      <td>8</td>\n",
       "      <td>7</td>\n",
       "      <td>5</td>\n",
       "    </tr>\n",
       "    <tr>\n",
       "      <th>3</th>\n",
       "      <td>1</td>\n",
       "      <td>160</td>\n",
       "      <td>140</td>\n",
       "      <td>9</td>\n",
       "      <td>8</td>\n",
       "      <td>13</td>\n",
       "    </tr>\n",
       "    <tr>\n",
       "      <th>4</th>\n",
       "      <td>1</td>\n",
       "      <td>0</td>\n",
       "      <td>0</td>\n",
       "      <td>1</td>\n",
       "      <td>1</td>\n",
       "      <td>1</td>\n",
       "    </tr>\n",
       "    <tr>\n",
       "      <th>...</th>\n",
       "      <td>...</td>\n",
       "      <td>...</td>\n",
       "      <td>...</td>\n",
       "      <td>...</td>\n",
       "      <td>...</td>\n",
       "      <td>...</td>\n",
       "    </tr>\n",
       "    <tr>\n",
       "      <th>8180</th>\n",
       "      <td>2</td>\n",
       "      <td>40</td>\n",
       "      <td>100</td>\n",
       "      <td>3</td>\n",
       "      <td>6</td>\n",
       "      <td>-8</td>\n",
       "    </tr>\n",
       "    <tr>\n",
       "      <th>8181</th>\n",
       "      <td>2</td>\n",
       "      <td>0</td>\n",
       "      <td>20</td>\n",
       "      <td>1</td>\n",
       "      <td>2</td>\n",
       "      <td>-5</td>\n",
       "    </tr>\n",
       "    <tr>\n",
       "      <th>8182</th>\n",
       "      <td>1</td>\n",
       "      <td>40</td>\n",
       "      <td>160</td>\n",
       "      <td>3</td>\n",
       "      <td>9</td>\n",
       "      <td>3</td>\n",
       "    </tr>\n",
       "    <tr>\n",
       "      <th>8183</th>\n",
       "      <td>2</td>\n",
       "      <td>140</td>\n",
       "      <td>80</td>\n",
       "      <td>8</td>\n",
       "      <td>5</td>\n",
       "      <td>1</td>\n",
       "    </tr>\n",
       "    <tr>\n",
       "      <th>8184</th>\n",
       "      <td>1</td>\n",
       "      <td>80</td>\n",
       "      <td>0</td>\n",
       "      <td>5</td>\n",
       "      <td>1</td>\n",
       "      <td>2</td>\n",
       "    </tr>\n",
       "  </tbody>\n",
       "</table>\n",
       "<p>8185 rows × 6 columns</p>\n",
       "</div>"
      ],
      "text/plain": [
       "      type  angle_1  angle_2  digitize_1  digitize_2  Performance\n",
       "0        1       80        0           5           1            1\n",
       "1        1       40        0           3           1          -19\n",
       "2        1      140      120           8           7            5\n",
       "3        1      160      140           9           8           13\n",
       "4        1        0        0           1           1            1\n",
       "...    ...      ...      ...         ...         ...          ...\n",
       "8180     2       40      100           3           6           -8\n",
       "8181     2        0       20           1           2           -5\n",
       "8182     1       40      160           3           9            3\n",
       "8183     2      140       80           8           5            1\n",
       "8184     1       80        0           5           1            2\n",
       "\n",
       "[8185 rows x 6 columns]"
      ]
     },
     "metadata": {},
     "output_type": "display_data"
    }
   ],
   "source": [
    "#Task design table \n",
    "\n",
    "df = pd.DataFrame(design_matrix,columns = ['type','angle_1','angle_2',\n",
    "                                              'digitize_1','digitize_2','Performance'])\n",
    "display(df)"
   ]
  },
  {
   "cell_type": "code",
   "execution_count": 11,
   "metadata": {},
   "outputs": [
    {
     "data": {
      "text/plain": [
       "type\n",
       "1    0.026271\n",
       "2    0.601620\n",
       "Name: Performance, dtype: float64"
      ]
     },
     "execution_count": 11,
     "metadata": {},
     "output_type": "execute_result"
    }
   ],
   "source": [
    "df.groupby('type')['Performance'].agg('mean')"
   ]
  },
  {
   "cell_type": "markdown",
   "metadata": {},
   "source": [
    "#### sio.loadmat\n",
    "```  \n",
    "Data:\n",
    "tes['data_clean_planar'][0,0]  \n",
    "[0] : channel\n",
    "[1] : label\n",
    "[2] : signal\n",
    "[3] : time\n",
    "[4] : sample rate\n",
    "[5] : \n",
    "    [0,0][0] trial id\n",
    "    \n",
    " Task design   \n",
    " tes['task_code']\n",
    " \n",
    " column names:\n",
    " ['Global/local(1/2) Global orientation(angle)  Local orientation(angle)  Global orientation(1-9)\n",
    "  Local orientation(1-9)  Performance difference']\n",
    " ```\n",
    " "
   ]
  },
  {
   "cell_type": "markdown",
   "metadata": {},
   "source": [
    "## Decoding"
   ]
  },
  {
   "cell_type": "code",
   "execution_count": 8,
   "metadata": {},
   "outputs": [],
   "source": [
    "label = design_matrix[:,0].reshape(-1)\n",
    "ori_gb = design_matrix[:,3]\n",
    "ori_lc = design_matrix[:,4]"
   ]
  },
  {
   "cell_type": "code",
   "execution_count": 9,
   "metadata": {},
   "outputs": [],
   "source": [
    "import warnings\n",
    "warnings.filterwarnings('ignore')"
   ]
  },
  {
   "cell_type": "code",
   "execution_count": 44,
   "metadata": {},
   "outputs": [],
   "source": [
    "###Remove global response(minus average):\n",
    "ave_over_gl_ori = [np.average(data[design_matrix[:,3]==i],axis = 0)for i in range(1,9)] \n",
    "for i in range(1,9):\n",
    "    data[design_matrix[:,3]==i] = data[design_matrix[:,3]==i] - ave_over_gl_ori[i-1]  "
   ]
  },
  {
   "cell_type": "code",
   "execution_count": null,
   "metadata": {},
   "outputs": [
    {
     "name": "stderr",
     "output_type": "stream",
     "text": [
      "[Parallel(n_jobs=12)]: Using backend LokyBackend with 12 concurrent workers.\n"
     ]
    }
   ],
   "source": [
    "X = data[label == 1]\n",
    "y = ori_gb[label == 1]\n",
    "clf = make_pipeline(StandardScaler(), LogisticRegression(solver='lbfgs',\n",
    "                                                         multi_class = 'auto',\n",
    "                                                         random_state= 1,\n",
    "                                                         max_iter=1000))\n",
    "\n",
    "time_decod = SlidingEstimator(clf, n_jobs=1, scoring= 'accuracy', verbose=True)\n",
    "scores = cross_val_multiscore(time_decod, X, y, cv=5, n_jobs=1)\n",
    "# Mean scores across cross-validation splits\n",
    "score = np.mean(scores, axis=0)"
   ]
  },
  {
   "cell_type": "code",
   "execution_count": 29,
   "metadata": {},
   "outputs": [
    {
     "data": {
      "text/plain": [
       "<matplotlib.legend.Legend at 0x7fa6c4b85d30>"
      ]
     },
     "execution_count": 29,
     "metadata": {},
     "output_type": "execute_result"
    },
    {
     "data": {
      "image/png": "[encoded data removed]",
      "text/plain": [
       "<Figure size 432x288 with 1 Axes>"
      ]
     },
     "metadata": {
      "needs_background": "light"
     },
     "output_type": "display_data"
    }
   ],
   "source": [
    "plt.plot(Time, score, label='score')\n",
    "plt.axhline(1/len(np.unique(ori_gb)), color='k', linestyle='--', label='chance')\n",
    "# plt.set_xlabel('Times')\n",
    "# plt.set_ylabel('ACC')  # Area Under the Curve\n",
    "plt.axvline(.0, color='k', linestyle='-')\n",
    "plt.legend()"
   ]
  },
  {
   "cell_type": "code",
   "execution_count": 47,
   "metadata": {},
   "outputs": [
    {
     "data": {
      "application/vnd.jupyter.widget-view+json": {
       "model_id": "59b35893963344e5a19fd4e2e679fcd3",
       "version_major": 2,
       "version_minor": 0
      },
      "text/plain": [
       "HBox(children=(FloatProgress(value=0.0, description='Fitting SlidingEstimator', max=300.0, style=ProgressStyle…"
      ]
     },
     "metadata": {},
     "output_type": "display_data"
    },
    {
     "name": "stdout",
     "output_type": "stream",
     "text": [
      "\n"
     ]
    },
    {
     "data": {
      "application/vnd.jupyter.widget-view+json": {
       "model_id": "f26e04c6225b487589312e629838149b",
       "version_major": 2,
       "version_minor": 0
      },
      "text/plain": [
       "HBox(children=(FloatProgress(value=0.0, description='Fitting SlidingEstimator', max=300.0, style=ProgressStyle…"
      ]
     },
     "metadata": {},
     "output_type": "display_data"
    },
    {
     "name": "stdout",
     "output_type": "stream",
     "text": [
      "\n"
     ]
    },
    {
     "data": {
      "application/vnd.jupyter.widget-view+json": {
       "model_id": "7bd1ffbbfe3d426e83d9bca60164432a",
       "version_major": 2,
       "version_minor": 0
      },
      "text/plain": [
       "HBox(children=(FloatProgress(value=0.0, description='Fitting SlidingEstimator', max=300.0, style=ProgressStyle…"
      ]
     },
     "metadata": {},
     "output_type": "display_data"
    },
    {
     "name": "stdout",
     "output_type": "stream",
     "text": [
      "\n"
     ]
    },
    {
     "data": {
      "application/vnd.jupyter.widget-view+json": {
       "model_id": "d806bd962cc54429b78902de26997ba9",
       "version_major": 2,
       "version_minor": 0
      },
      "text/plain": [
       "HBox(children=(FloatProgress(value=0.0, description='Fitting SlidingEstimator', max=300.0, style=ProgressStyle…"
      ]
     },
     "metadata": {},
     "output_type": "display_data"
    },
    {
     "name": "stdout",
     "output_type": "stream",
     "text": [
      "\n"
     ]
    },
    {
     "data": {
      "application/vnd.jupyter.widget-view+json": {
       "model_id": "312fed7370874df1bc32328af032a00b",
       "version_major": 2,
       "version_minor": 0
      },
      "text/plain": [
       "HBox(children=(FloatProgress(value=0.0, description='Fitting SlidingEstimator', max=300.0, style=ProgressStyle…"
      ]
     },
     "metadata": {},
     "output_type": "display_data"
    },
    {
     "name": "stdout",
     "output_type": "stream",
     "text": [
      "\n"
     ]
    }
   ],
   "source": [
    "X = data[label == 2]\n",
    "y = ori_lc[label == 2]\n",
    "X = X[(y==2)|(y==5)|(y==8)]\n",
    "y = y[(y==2)|(y==5)|(y==8)]\n",
    "\n",
    "clf = make_pipeline(StandardScaler(), LogisticRegression(solver='lbfgs',\n",
    "                                                         multi_class = 'auto',\n",
    "                                                         random_state= 1,\n",
    "                                                         max_iter=1000))\n",
    "\n",
    "time_decod = SlidingEstimator(clf, n_jobs=1, scoring= 'accuracy', verbose=True)\n",
    "scores = cross_val_multiscore(time_decod, X, y, cv=5, n_jobs=1)\n",
    "# Mean scores across cross-validation splits\n",
    "score = np.mean(scores, axis=0)"
   ]
  },
  {
   "cell_type": "code",
   "execution_count": 48,
   "metadata": {},
   "outputs": [
    {
     "data": {
      "text/plain": [
       "<matplotlib.legend.Legend at 0x7fa556158d30>"
      ]
     },
     "execution_count": 48,
     "metadata": {},
     "output_type": "execute_result"
    },
    {
     "data": {
      "image/png": "[encoded data removed]",
      "text/plain": [
       "<Figure size 432x288 with 1 Axes>"
      ]
     },
     "metadata": {
      "needs_background": "light"
     },
     "output_type": "display_data"
    }
   ],
   "source": [
    "plt.plot(Time, score, label='score')\n",
    "plt.axhline(1/len(np.unique(y)), color='k', linestyle='--', label='chance')\n",
    "# plt.set_xlabel('Times')\n",
    "# plt.set_ylabel('ACC')  # Area Under the Curve\n",
    "plt.axvline(.0, color='k', linestyle='-')\n",
    "plt.legend()"
   ]
  },
  {
   "cell_type": "code",
   "execution_count": 11,
   "metadata": {},
   "outputs": [],
   "source": [
    "## select time of interest\n",
    "tmin = 300\n",
    "tmax = 700\n",
    "data = data[:,:,(Time>tmin/1000)&(Time<tmax/1000)]"
   ]
  },
  {
   "cell_type": "code",
   "execution_count": 12,
   "metadata": {},
   "outputs": [],
   "source": [
    "X = data[label == 2].reshape(-1,data.shape[1]*data.shape[2])\n",
    "y = ori_lc[label == 2]"
   ]
  },
  {
   "cell_type": "code",
   "execution_count": 15,
   "metadata": {},
   "outputs": [
    {
     "name": "stdout",
     "output_type": "stream",
     "text": [
      "Accuracy: 0.113 (0.001)\n"
     ]
    }
   ],
   "source": [
    "from sklearn.datasets import make_classification\n",
    "from sklearn.model_selection import cross_val_score\n",
    "from sklearn.model_selection import RepeatedStratifiedKFold\n",
    "from sklearn.ensemble import RandomForestClassifier\n",
    "# define the model\n",
    "model = RandomForestClassifier()\n",
    "\n",
    "# evaluate the model\n",
    "cv = RepeatedStratifiedKFold(n_splits=10, n_repeats=1, random_state=1)\n",
    "n_scores = cross_val_score(model, X, y, scoring='accuracy', cv=cv, n_jobs=-1, error_score='raise')\n",
    "# report performance\n",
    "print('Accuracy: %.3f (%.3f)' % (np.mean(n_scores), np.std(n_scores)))"
   ]
  },
  {
   "cell_type": "code",
   "execution_count": null,
   "metadata": {},
   "outputs": [],
   "source": []
  }
 ],
 "metadata": {
  "kernelspec": {
   "display_name": "Python 3",
   "language": "python",
   "name": "python3"
  },
  "language_info": {
   "codemirror_mode": {
    "name": "ipython",
    "version": 3
   },
   "file_extension": ".py",
   "mimetype": "text/x-python",
   "name": "python",
   "nbconvert_exporter": "python",
   "pygments_lexer": "ipython3",
   "version": "3.7.1"
  }
 },
 "nbformat": 4,
 "nbformat_minor": 2
}
